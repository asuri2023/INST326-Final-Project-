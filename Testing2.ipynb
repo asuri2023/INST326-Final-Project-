{
 "cells": [
  {
   "cell_type": "code",
   "execution_count": 1,
   "id": "5597a8f2-95fc-49ce-9f69-200475734ee3",
   "metadata": {},
   "outputs": [],
   "source": [
    "import final_project\n",
    "\n",
    "someApartment = final_project.Apartment()\n",
    "#someApartment is self (reference to instaniated item)\n"
   ]
  },
  {
   "cell_type": "code",
   "execution_count": 2,
   "id": "60f3e1b9-b11a-47a2-b88e-aa5e1250a947",
   "metadata": {},
   "outputs": [
    {
     "name": "stdin",
     "output_type": "stream",
     "text": [
      "What is your minimum budget? 1500\n"
     ]
    },
    {
     "name": "stdout",
     "output_type": "stream",
     "text": [
      "Your budget satisfies the minimum budget of all the apartments: Terrapin Row:(1250), University View: (1200), and The Varsity: (1104)\n"
     ]
    }
   ],
   "source": [
    "someApartment.userBudget()"
   ]
  },
  {
   "cell_type": "code",
   "execution_count": 3,
   "id": "7d9cfc59-3bba-455c-b3e3-b5190bc49a28",
   "metadata": {},
   "outputs": [
    {
     "name": "stdout",
     "output_type": "stream",
     "text": [
      "Please answer the following questions for us to help provide you with your ideal apartment\n"
     ]
    },
    {
     "name": "stdin",
     "output_type": "stream",
     "text": [
      "Please enter your full name: Philip Samuel\n",
      "Which part of UMD campus would be ideal for you. Type North or South:  South\n",
      "Are you looking for a pool? Type 0 for no pool or 1 for pool: 0\n",
      "Are you looking for a gym? Type 0 for no gym or 1 for gym: 1\n",
      "Are you looking for parking? Type 0 for no parking and 1 for parking: 0\n",
      "Do you want an apartment with an electronic entry lock system? Type 0 for no system and 1 for a system: 1\n",
      "Are you looking for study rooms? Type 0 for no study rooms and 1 for study rooms: 1\n",
      "Are you looking for game lounge? Type 0 for no game lounge and 1 for a game lounge: 1\n"
     ]
    },
    {
     "name": "stdout",
     "output_type": "stream",
     "text": [
      "Apartments with your ideal amenities: University View and The Varsity\n"
     ]
    }
   ],
   "source": [
    "someApartment.userInput()"
   ]
  },
  {
   "cell_type": "code",
   "execution_count": 4,
   "id": "003bacd5-ef05-4c0a-9853-e63617bfd733",
   "metadata": {},
   "outputs": [
    {
     "name": "stdin",
     "output_type": "stream",
     "text": [
      "Do you have proof of identity (e.g. driver's license, passport) ? Type 0 for no, 1 for yes: 0\n",
      "Do you have proof of income (e.g. pay stub, bank statement) ? Type 0 for no, 1 for yes: 1\n",
      "Do you have proof of current residency (e.g. utility bill, lease agreement) ? Type 0 for no, 1 for yes: 0\n",
      "Do you have proof of insurance (e.g. auto insurance, renters insurance) ? Type 0 for no, 1 for yes: 1\n"
     ]
    },
    {
     "data": {
      "text/plain": [
       "'Please provide all the required documentation.'"
      ]
     },
     "execution_count": 4,
     "metadata": {},
     "output_type": "execute_result"
    }
   ],
   "source": [
    "someApartment.check_eligibility()"
   ]
  },
  {
   "cell_type": "code",
   "execution_count": null,
   "id": "75b7197d-fa91-474b-ab7f-2f36e2c0e9f3",
   "metadata": {},
   "outputs": [],
   "source": []
  }
 ],
 "metadata": {
  "kernelspec": {
   "display_name": "Python 3 (ipykernel)",
   "language": "python",
   "name": "python3"
  },
  "language_info": {
   "codemirror_mode": {
    "name": "ipython",
    "version": 3
   },
   "file_extension": ".py",
   "mimetype": "text/x-python",
   "name": "python",
   "nbconvert_exporter": "python",
   "pygments_lexer": "ipython3",
   "version": "3.11.1"
  }
 },
 "nbformat": 4,
 "nbformat_minor": 5
}
