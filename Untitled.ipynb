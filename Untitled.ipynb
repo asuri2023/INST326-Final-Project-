{
 "cells": [
  {
   "cell_type": "code",
   "execution_count": 5,
   "id": "66bd6d7c-59a3-42ba-9d56-be57923f8cfe",
   "metadata": {},
   "outputs": [
    {
     "ename": "AttributeError",
     "evalue": "type object 'Apartment' has no attribute 'self'",
     "output_type": "error",
     "traceback": [
      "\u001b[1;31m---------------------------------------------------------------------------\u001b[0m",
      "\u001b[1;31mAttributeError\u001b[0m                            Traceback (most recent call last)",
      "Cell \u001b[1;32mIn[5], line 24\u001b[0m\n\u001b[0;32m     22\u001b[0m     \u001b[38;5;28mprint\u001b[39m(Apartment\u001b[38;5;241m.\u001b[39mself\u001b[38;5;241m.\u001b[39mapartment_names)\n\u001b[0;32m     23\u001b[0m \u001b[38;5;28;01mif\u001b[39;00m \u001b[38;5;18m__name__\u001b[39m \u001b[38;5;241m==\u001b[39m \u001b[38;5;124m\"\u001b[39m\u001b[38;5;124m__main__\u001b[39m\u001b[38;5;124m\"\u001b[39m:\n\u001b[1;32m---> 24\u001b[0m     \u001b[43mmain\u001b[49m\u001b[43m(\u001b[49m\u001b[43m)\u001b[49m\n",
      "Cell \u001b[1;32mIn[5], line 22\u001b[0m, in \u001b[0;36mmain\u001b[1;34m()\u001b[0m\n\u001b[0;32m     21\u001b[0m \u001b[38;5;28;01mdef\u001b[39;00m \u001b[38;5;21mmain\u001b[39m():\n\u001b[1;32m---> 22\u001b[0m     \u001b[38;5;28mprint\u001b[39m(\u001b[43mApartment\u001b[49m\u001b[38;5;241;43m.\u001b[39;49m\u001b[43mself\u001b[49m\u001b[38;5;241m.\u001b[39mapartment_names)\n",
      "\u001b[1;31mAttributeError\u001b[0m: type object 'Apartment' has no attribute 'self'"
     ]
    }
   ],
   "source": [
    "import pandas as pd\n",
    "import seaborn as sns\n",
    "\n",
    "class Apartment:\n",
    "    \n",
    "    def __init__(self):\n",
    "        #Member who worked on this method: Avi\n",
    "        #Technique used: Merging operation on Pandas DataFrames\n",
    "        \n",
    "        # Read the CSV files\n",
    "        self.apartments_df = pd.read_csv(r\"CP Apartments_Version3.csv\")\n",
    "        self.amenities_df = pd.read_csv(r\"Amenitites_Version2.csv\")\n",
    "        self.historical_df = pd.read_csv(r\"Major Historical Data_Version3.csv\")\n",
    "        \n",
    "        # Merging operation on Pandas DataFrames\n",
    "        self.merged_data = self.apartments_df.merge(self.amenities_df, \n",
    "                                                    on=[\"Apartment Name\"])\n",
    "        self.apartment_names = self.merged_data[\"Apartment Name\"].unique()\n",
    "        \n",
    "        \n",
    "def main():\n",
    "    print(Apartment.self.apartment_names)\n",
    "if __name__ == \"__main__\":\n",
    "    main()"
   ]
  },
  {
   "cell_type": "code",
   "execution_count": null,
   "id": "49a80984-7194-4c98-a95e-b3257542cbb7",
   "metadata": {},
   "outputs": [],
   "source": []
  }
 ],
 "metadata": {
  "kernelspec": {
   "display_name": "Python 3 (ipykernel)",
   "language": "python",
   "name": "python3"
  },
  "language_info": {
   "codemirror_mode": {
    "name": "ipython",
    "version": 3
   },
   "file_extension": ".py",
   "mimetype": "text/x-python",
   "name": "python",
   "nbconvert_exporter": "python",
   "pygments_lexer": "ipython3",
   "version": "3.11.1"
  }
 },
 "nbformat": 4,
 "nbformat_minor": 5
}
