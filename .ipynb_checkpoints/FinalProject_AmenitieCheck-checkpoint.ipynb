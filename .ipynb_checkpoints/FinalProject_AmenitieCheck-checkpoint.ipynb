{
 "cells": [
  {
   "cell_type": "code",
   "execution_count": null,
   "id": "3ca083b6-8209-4b85-a6fc-7a1aaf8c1176",
   "metadata": {},
   "outputs": [],
   "source": [
    "import final_project\n",
    "\n",
    "someApartment = final_project.Apartment()\n",
    "#someApartment is self (reference to instaniated item)\n",
    "someApartment.userInput()"
   ]
  },
  {
   "cell_type": "code",
   "execution_count": null,
   "id": "4ebe7883-3ceb-4c7a-93b1-bdb5a1c96057",
   "metadata": {},
   "outputs": [],
   "source": []
  }
 ],
 "metadata": {
  "kernelspec": {
   "display_name": "Python 3 (ipykernel)",
   "language": "python",
   "name": "python3"
  },
  "language_info": {
   "codemirror_mode": {
    "name": "ipython",
    "version": 3
   },
   "file_extension": ".py",
   "mimetype": "text/x-python",
   "name": "python",
   "nbconvert_exporter": "python",
   "pygments_lexer": "ipython3",
   "version": "3.11.1"
  }
 },
 "nbformat": 4,
 "nbformat_minor": 5
}
