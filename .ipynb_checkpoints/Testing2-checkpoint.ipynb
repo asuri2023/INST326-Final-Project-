{
 "cells": [
  {
   "cell_type": "code",
   "execution_count": 1,
   "id": "5597a8f2-95fc-49ce-9f69-200475734ee3",
   "metadata": {},
   "outputs": [],
   "source": [
    "import final_project\n",
    "\n",
    "someApartment = final_project.Apartment()\n",
    "#someApartment is self (reference to instaniated item)\n"
   ]
  },
  {
   "cell_type": "code",
   "execution_count": 2,
   "id": "7d9cfc59-3bba-455c-b3e3-b5190bc49a28",
   "metadata": {},
   "outputs": [],
   "source": [
    "#someApartment.userInput()"
   ]
  },
  {
   "cell_type": "code",
   "execution_count": 3,
   "id": "003bacd5-ef05-4c0a-9853-e63617bfd733",
   "metadata": {},
   "outputs": [],
   "source": [
    "#someApartment.check_eligibility()"
   ]
  },
  {
   "cell_type": "code",
   "execution_count": 4,
   "id": "60f3e1b9-b11a-47a2-b88e-aa5e1250a947",
   "metadata": {},
   "outputs": [
    {
     "name": "stdin",
     "output_type": "stream",
     "text": [
      "What is your minimum budget? 1000\n"
     ]
    },
    {
     "ename": "TypeError",
     "evalue": "'builtin_function_or_method' object is not iterable",
     "output_type": "error",
     "traceback": [
      "\u001b[1;31m---------------------------------------------------------------------------\u001b[0m",
      "\u001b[1;31mTypeError\u001b[0m                                 Traceback (most recent call last)",
      "Cell \u001b[1;32mIn[4], line 1\u001b[0m\n\u001b[1;32m----> 1\u001b[0m \u001b[43msomeApartment\u001b[49m\u001b[38;5;241;43m.\u001b[39;49m\u001b[43muserBudget\u001b[49m\u001b[43m(\u001b[49m\u001b[43m)\u001b[49m\n",
      "File \u001b[1;32m~\\Documents\\GitHub\\INST326-Final-Project-\\final_project.py:44\u001b[0m, in \u001b[0;36mApartment.userBudget\u001b[1;34m(self)\u001b[0m\n\u001b[0;32m     39\u001b[0m \u001b[38;5;28;01mdef\u001b[39;00m \u001b[38;5;21muserBudget\u001b[39m(\u001b[38;5;28mself\u001b[39m):\n\u001b[0;32m     40\u001b[0m     \u001b[38;5;66;03m#Members who worked on this method: Shishir\u001b[39;00m\n\u001b[0;32m     41\u001b[0m     \u001b[38;5;66;03m#Edited Avi and Philip\u001b[39;00m\n\u001b[0;32m     43\u001b[0m     user_input_budget \u001b[38;5;241m=\u001b[39m \u001b[38;5;28mint\u001b[39m(\u001b[38;5;28minput\u001b[39m(\u001b[38;5;124m\"\u001b[39m\u001b[38;5;124mWhat is your minimum budget?\u001b[39m\u001b[38;5;124m\"\u001b[39m)) \n\u001b[1;32m---> 44\u001b[0m     cheapest_apt\u001b[38;5;241m=\u001b[39m\u001b[38;5;28;43mmin\u001b[39;49m\u001b[43m(\u001b[49m\u001b[38;5;28;43mself\u001b[39;49m\u001b[38;5;241;43m.\u001b[39;49m\u001b[43mmin_budget\u001b[49m\u001b[38;5;241;43m.\u001b[39;49m\u001b[43mvalues\u001b[49m\u001b[43m)\u001b[49m\n\u001b[0;32m     45\u001b[0m     matching_apartments \u001b[38;5;241m=\u001b[39m [key \u001b[38;5;28;01mfor\u001b[39;00m key \u001b[38;5;129;01min\u001b[39;00m \u001b[38;5;28mself\u001b[39m\u001b[38;5;241m.\u001b[39mmin_budget \u001b[38;5;28;01mif\u001b[39;00m \n\u001b[0;32m     46\u001b[0m                            \u001b[38;5;28mself\u001b[39m\u001b[38;5;241m.\u001b[39mmin_budget[key] \u001b[38;5;241m<\u001b[39m\u001b[38;5;241m=\u001b[39m user_input_budget]\n\u001b[0;32m     47\u001b[0m     \u001b[38;5;28;01mif\u001b[39;00m \u001b[38;5;129;01mnot\u001b[39;00m matching_apartments:\n",
      "\u001b[1;31mTypeError\u001b[0m: 'builtin_function_or_method' object is not iterable"
     ]
    }
   ],
   "source": [
    "someApartment.userBudget()"
   ]
  },
  {
   "cell_type": "code",
   "execution_count": null,
   "id": "75b7197d-fa91-474b-ab7f-2f36e2c0e9f3",
   "metadata": {},
   "outputs": [],
   "source": []
  }
 ],
 "metadata": {
  "kernelspec": {
   "display_name": "Python 3 (ipykernel)",
   "language": "python",
   "name": "python3"
  },
  "language_info": {
   "codemirror_mode": {
    "name": "ipython",
    "version": 3
   },
   "file_extension": ".py",
   "mimetype": "text/x-python",
   "name": "python",
   "nbconvert_exporter": "python",
   "pygments_lexer": "ipython3",
   "version": "3.11.1"
  }
 },
 "nbformat": 4,
 "nbformat_minor": 5
}
