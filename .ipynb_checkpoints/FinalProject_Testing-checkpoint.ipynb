{
 "cells": [
  {
   "cell_type": "code",
   "execution_count": 4,
   "id": "3b45a167-4c0c-4d7a-8554-02a1446a1623",
   "metadata": {},
   "outputs": [
    {
     "name": "stdout",
     "output_type": "stream",
     "text": [
      "['Terrapin Row' 'University View' 'The Varsity' 'South Campus Commons']\n",
      "Terrapin Row\n",
      "University View\n",
      "The Varsity\n",
      "South Campus Commons\n"
     ]
    }
   ],
   "source": [
    "import pandas as pd\n",
    "import seaborn as sns\n",
    "        \n",
    "# Read the CSV files\n",
    "apartments_df = pd.read_csv(r\"CP Apartments_Version3.csv\")\n",
    "amenities_df = pd.read_csv(r\"Amenitites_Version2.csv\")\n",
    "historical_df = pd.read_csv(r\"Major Historical Data_Version3.csv\")\n",
    "        \n",
    "# Merging operation on Pandas DataFrames\n",
    "merged_data = apartments_df.merge(amenities_df, on=[\"Apartment Name\"])\n",
    "\n",
    "\n",
    "terrapin_row, \n",
    "university_view, \n",
    "the_varsity, \n",
    "south_campus_commons = merged_data[\"Apartment Name\"].unique()\n",
    "        \n",
    "apartment_names = merged_data[\"Apartment Name\"].unique()\n",
    "\n",
    "print(apartment_names)\n",
    "print(terrapin_row)\n",
    "print(university_view)\n",
    "print(the_varsity)\n",
    "print(south_campus_commons)\n"
   ]
  },
  {
   "cell_type": "code",
   "execution_count": null,
   "id": "cafd7fc1-484f-41a8-bd1b-9cb2906bffa2",
   "metadata": {},
   "outputs": [],
   "source": []
  }
 ],
 "metadata": {
  "kernelspec": {
   "display_name": "Python 3 (ipykernel)",
   "language": "python",
   "name": "python3"
  },
  "language_info": {
   "codemirror_mode": {
    "name": "ipython",
    "version": 3
   },
   "file_extension": ".py",
   "mimetype": "text/x-python",
   "name": "python",
   "nbconvert_exporter": "python",
   "pygments_lexer": "ipython3",
   "version": "3.11.1"
  }
 },
 "nbformat": 4,
 "nbformat_minor": 5
}
