{
 "cells": [
  {
   "cell_type": "code",
   "execution_count": null,
   "id": "3ca083b6-8209-4b85-a6fc-7a1aaf8c1176",
   "metadata": {},
   "outputs": [
    {
     "name": "stdout",
     "output_type": "stream",
     "text": [
      "Welcome to the College Park Apartment Portal! There are four apartments to choose from: Terrapin Row, University View, The Varsity, and South Campus Commons.\n",
      "The University of Maryland, College Park is divided into North and South campus, with Mckeldin Mall being the division line.\n",
      "Facing the front of Mckeldin Library, any land to the right of the library is North and any land to the left of the library is South.\n",
      "Terrapin Row and South Campus Commons are located in South campus.\n",
      "University View and The Varsity are located in North campus.\n",
      "Answer some questions to find your ideal apartment!\n"
     ]
    },
    {
     "name": "stdin",
     "output_type": "stream",
     "text": [
      "Please enter your full name: Philip Samuel\n",
      "Which one of the following categories would your major fall under?\n",
      "Type 1 for STEM (Classes in North campus)\n",
      "Type 2 for Business (Classes in South campus)\n",
      "Type 3 for Public Policy (Classes in South campus)\n",
      "Type 4 for Fine Arts (Classes in North campus)\n",
      "Type 5 for Architecture (South campus) 1\n"
     ]
    },
    {
     "name": "stdout",
     "output_type": "stream",
     "text": [
      "University View and The Varsity are located near STEM buildings\n",
      "Let's see what most {major_number_dictionary[major_category_input]} majors in previous years chose as their apartment.\n",
      "Between University View and The Varsity, let's see which apartment best fits your amenity needs.\n"
     ]
    },
    {
     "name": "stdin",
     "output_type": "stream",
     "text": [
      "Are you looking for a pool? Type 0 for no pool or 1 for pool: 1\n"
     ]
    },
    {
     "name": "stdout",
     "output_type": "stream",
     "text": [
      "University View has a Pool.\n",
      "The Varsity does not have a Pool.\n"
     ]
    },
    {
     "name": "stdin",
     "output_type": "stream",
     "text": [
      "Are you looking for a gym? Type 0 for no gym or 1 for gym: 0\n"
     ]
    },
    {
     "name": "stdout",
     "output_type": "stream",
     "text": [
      "University View does not have a Gym.\n",
      "The Varsity has a Gym.\n"
     ]
    },
    {
     "name": "stdin",
     "output_type": "stream",
     "text": [
      "Are you looking for parking? Type 0 for no parking and 1 for parking: 0\n"
     ]
    },
    {
     "name": "stdout",
     "output_type": "stream",
     "text": [
      "University View does not have a Parking.\n",
      "The Varsity has a Parking.\n"
     ]
    },
    {
     "name": "stdin",
     "output_type": "stream",
     "text": [
      "Do you want an apartment with an electronic entry lock system? Type 0 for no system and 1 for a system: 0\n"
     ]
    },
    {
     "name": "stdout",
     "output_type": "stream",
     "text": [
      "University View has a Electronic Key Locks.\n",
      "The Varsity does not have a Electronic Key Locks.\n"
     ]
    },
    {
     "name": "stdin",
     "output_type": "stream",
     "text": [
      "Are you looking for study rooms? Type 0 for no study rooms and 1 for study rooms: 0\n"
     ]
    },
    {
     "name": "stdout",
     "output_type": "stream",
     "text": [
      "University View does not have a Study Rooms.\n",
      "The Varsity has a Study Rooms.\n"
     ]
    },
    {
     "name": "stdin",
     "output_type": "stream",
     "text": [
      "Are you looking for game lounge? Type 0 for no game lounge and 1 for a game lounge: 1\n"
     ]
    },
    {
     "name": "stdout",
     "output_type": "stream",
     "text": [
      "University View has a Game Lounge.\n",
      "The Varsity does not have a Game Lounge.\n"
     ]
    }
   ],
   "source": [
    "import final_project\n",
    "\n",
    "someApartment = final_project.Apartment()\n",
    "#someApartment is self (reference to instaniated item)\n",
    "someApartment.userInput()"
   ]
  },
  {
   "cell_type": "code",
   "execution_count": null,
   "id": "4ebe7883-3ceb-4c7a-93b1-bdb5a1c96057",
   "metadata": {},
   "outputs": [],
   "source": []
  }
 ],
 "metadata": {
  "kernelspec": {
   "display_name": "Python 3 (ipykernel)",
   "language": "python",
   "name": "python3"
  },
  "language_info": {
   "codemirror_mode": {
    "name": "ipython",
    "version": 3
   },
   "file_extension": ".py",
   "mimetype": "text/x-python",
   "name": "python",
   "nbconvert_exporter": "python",
   "pygments_lexer": "ipython3",
   "version": "3.11.1"
  }
 },
 "nbformat": 4,
 "nbformat_minor": 5
}
