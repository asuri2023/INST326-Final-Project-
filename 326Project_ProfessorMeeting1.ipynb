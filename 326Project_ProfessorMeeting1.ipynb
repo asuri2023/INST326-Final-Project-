{
 "cells": [
  {
   "cell_type": "code",
   "execution_count": 3,
   "id": "63d81f63-77eb-4f25-8296-d3ac2d2e4f9f",
   "metadata": {},
   "outputs": [],
   "source": [
    "import final_project\n",
    "\n",
    "someApartment = final_project.Apartment()\n",
    "#someApartment is self (reference to instaniated item)\n"
   ]
  },
  {
   "cell_type": "code",
   "execution_count": 4,
   "id": "4c0a00ae-e19a-4de8-9f05-594a64c0519a",
   "metadata": {},
   "outputs": [
    {
     "data": {
      "text/html": [
       "<div>\n",
       "<style scoped>\n",
       "    .dataframe tbody tr th:only-of-type {\n",
       "        vertical-align: middle;\n",
       "    }\n",
       "\n",
       "    .dataframe tbody tr th {\n",
       "        vertical-align: top;\n",
       "    }\n",
       "\n",
       "    .dataframe thead th {\n",
       "        text-align: right;\n",
       "    }\n",
       "</style>\n",
       "<table border=\"1\" class=\"dataframe\">\n",
       "  <thead>\n",
       "    <tr style=\"text-align: right;\">\n",
       "      <th></th>\n",
       "      <th>Apartment Name</th>\n",
       "      <th>Apartment Number</th>\n",
       "      <th>Location</th>\n",
       "      <th>Floor Plan</th>\n",
       "      <th>Rooms available</th>\n",
       "      <th>Pool</th>\n",
       "      <th>Gym</th>\n",
       "      <th>Parking</th>\n",
       "      <th>Electronic Key Locks</th>\n",
       "      <th>Study Rooms</th>\n",
       "      <th>Game Lounge</th>\n",
       "    </tr>\n",
       "  </thead>\n",
       "  <tbody>\n",
       "    <tr>\n",
       "      <th>0</th>\n",
       "      <td>Terrapin Row</td>\n",
       "      <td>1100.0</td>\n",
       "      <td>Close to South UMD campus</td>\n",
       "      <td>1 bedroom, 1 bath</td>\n",
       "      <td>0;not available</td>\n",
       "      <td>1</td>\n",
       "      <td>1</td>\n",
       "      <td>1</td>\n",
       "      <td>1</td>\n",
       "      <td>1</td>\n",
       "      <td>1</td>\n",
       "    </tr>\n",
       "    <tr>\n",
       "      <th>1</th>\n",
       "      <td>Terrapin Row</td>\n",
       "      <td>1101.0</td>\n",
       "      <td>Close to South UMD campus</td>\n",
       "      <td>2 bedroom, 2 bath</td>\n",
       "      <td>2;1001a,1001b</td>\n",
       "      <td>1</td>\n",
       "      <td>1</td>\n",
       "      <td>1</td>\n",
       "      <td>1</td>\n",
       "      <td>1</td>\n",
       "      <td>1</td>\n",
       "    </tr>\n",
       "    <tr>\n",
       "      <th>2</th>\n",
       "      <td>Terrapin Row</td>\n",
       "      <td>1102.0</td>\n",
       "      <td>Close to South UMD campus</td>\n",
       "      <td>3 bedroom ,3 bath</td>\n",
       "      <td>3;1002a,1002b,1002c</td>\n",
       "      <td>1</td>\n",
       "      <td>1</td>\n",
       "      <td>1</td>\n",
       "      <td>1</td>\n",
       "      <td>1</td>\n",
       "      <td>1</td>\n",
       "    </tr>\n",
       "    <tr>\n",
       "      <th>3</th>\n",
       "      <td>Terrapin Row</td>\n",
       "      <td>1103.0</td>\n",
       "      <td>Close to South UMD campus</td>\n",
       "      <td>4 bedroom , 4 bath</td>\n",
       "      <td>0;not available</td>\n",
       "      <td>1</td>\n",
       "      <td>1</td>\n",
       "      <td>1</td>\n",
       "      <td>1</td>\n",
       "      <td>1</td>\n",
       "      <td>1</td>\n",
       "    </tr>\n",
       "    <tr>\n",
       "      <th>4</th>\n",
       "      <td>Terrapin Row</td>\n",
       "      <td>1104.0</td>\n",
       "      <td>Close to South UMD campus</td>\n",
       "      <td>1 bedroom, 1 bath</td>\n",
       "      <td>0;not available</td>\n",
       "      <td>1</td>\n",
       "      <td>1</td>\n",
       "      <td>1</td>\n",
       "      <td>1</td>\n",
       "      <td>1</td>\n",
       "      <td>1</td>\n",
       "    </tr>\n",
       "    <tr>\n",
       "      <th>...</th>\n",
       "      <td>...</td>\n",
       "      <td>...</td>\n",
       "      <td>...</td>\n",
       "      <td>...</td>\n",
       "      <td>...</td>\n",
       "      <td>...</td>\n",
       "      <td>...</td>\n",
       "      <td>...</td>\n",
       "      <td>...</td>\n",
       "      <td>...</td>\n",
       "      <td>...</td>\n",
       "    </tr>\n",
       "    <tr>\n",
       "      <th>241</th>\n",
       "      <td>The Varsity</td>\n",
       "      <td>903.0</td>\n",
       "      <td>Close to North UMD campus</td>\n",
       "      <td>1 bedroom, 1 bath</td>\n",
       "      <td>0;not available</td>\n",
       "      <td>0</td>\n",
       "      <td>1</td>\n",
       "      <td>1</td>\n",
       "      <td>0</td>\n",
       "      <td>1</td>\n",
       "      <td>0</td>\n",
       "    </tr>\n",
       "    <tr>\n",
       "      <th>242</th>\n",
       "      <td>The Varsity</td>\n",
       "      <td>904.0</td>\n",
       "      <td>Close to North UMD campus</td>\n",
       "      <td>4 bedroom , 4 bath</td>\n",
       "      <td>2;904b, 904c</td>\n",
       "      <td>0</td>\n",
       "      <td>1</td>\n",
       "      <td>1</td>\n",
       "      <td>0</td>\n",
       "      <td>1</td>\n",
       "      <td>0</td>\n",
       "    </tr>\n",
       "    <tr>\n",
       "      <th>243</th>\n",
       "      <td>The Varsity</td>\n",
       "      <td>905.0</td>\n",
       "      <td>Close to North UMD campus</td>\n",
       "      <td>1 bedroom, 1 bath</td>\n",
       "      <td>0;not available</td>\n",
       "      <td>0</td>\n",
       "      <td>1</td>\n",
       "      <td>1</td>\n",
       "      <td>0</td>\n",
       "      <td>1</td>\n",
       "      <td>0</td>\n",
       "    </tr>\n",
       "    <tr>\n",
       "      <th>244</th>\n",
       "      <td>The Varsity</td>\n",
       "      <td>906.0</td>\n",
       "      <td>Close to North UMD campus</td>\n",
       "      <td>1 bedroom, 1 bath</td>\n",
       "      <td>0;not available</td>\n",
       "      <td>0</td>\n",
       "      <td>1</td>\n",
       "      <td>1</td>\n",
       "      <td>0</td>\n",
       "      <td>1</td>\n",
       "      <td>0</td>\n",
       "    </tr>\n",
       "    <tr>\n",
       "      <th>245</th>\n",
       "      <td>The Varsity</td>\n",
       "      <td>907.0</td>\n",
       "      <td>Close to North UMD campus</td>\n",
       "      <td>3 bedroom, 3 bath</td>\n",
       "      <td>3;907a,907b,907c</td>\n",
       "      <td>0</td>\n",
       "      <td>1</td>\n",
       "      <td>1</td>\n",
       "      <td>0</td>\n",
       "      <td>1</td>\n",
       "      <td>0</td>\n",
       "    </tr>\n",
       "  </tbody>\n",
       "</table>\n",
       "<p>246 rows × 11 columns</p>\n",
       "</div>"
      ],
      "text/plain": [
       "    Apartment Name  Apartment Number                   Location   \n",
       "0     Terrapin Row            1100.0  Close to South UMD campus  \\\n",
       "1     Terrapin Row            1101.0  Close to South UMD campus   \n",
       "2     Terrapin Row            1102.0  Close to South UMD campus   \n",
       "3     Terrapin Row            1103.0  Close to South UMD campus   \n",
       "4     Terrapin Row            1104.0  Close to South UMD campus   \n",
       "..             ...               ...                        ...   \n",
       "241    The Varsity             903.0  Close to North UMD campus   \n",
       "242    The Varsity             904.0  Close to North UMD campus   \n",
       "243    The Varsity             905.0  Close to North UMD campus   \n",
       "244    The Varsity             906.0  Close to North UMD campus   \n",
       "245    The Varsity             907.0  Close to North UMD campus   \n",
       "\n",
       "             Floor Plan      Rooms available  Pool  Gym  Parking   \n",
       "0     1 bedroom, 1 bath      0;not available     1    1        1  \\\n",
       "1     2 bedroom, 2 bath        2;1001a,1001b     1    1        1   \n",
       "2     3 bedroom ,3 bath  3;1002a,1002b,1002c     1    1        1   \n",
       "3    4 bedroom , 4 bath      0;not available     1    1        1   \n",
       "4     1 bedroom, 1 bath      0;not available     1    1        1   \n",
       "..                  ...                  ...   ...  ...      ...   \n",
       "241   1 bedroom, 1 bath      0;not available     0    1        1   \n",
       "242  4 bedroom , 4 bath         2;904b, 904c     0    1        1   \n",
       "243   1 bedroom, 1 bath      0;not available     0    1        1   \n",
       "244   1 bedroom, 1 bath      0;not available     0    1        1   \n",
       "245   3 bedroom, 3 bath     3;907a,907b,907c     0    1        1   \n",
       "\n",
       "     Electronic Key Locks  Study Rooms  Game Lounge  \n",
       "0                       1            1            1  \n",
       "1                       1            1            1  \n",
       "2                       1            1            1  \n",
       "3                       1            1            1  \n",
       "4                       1            1            1  \n",
       "..                    ...          ...          ...  \n",
       "241                     0            1            0  \n",
       "242                     0            1            0  \n",
       "243                     0            1            0  \n",
       "244                     0            1            0  \n",
       "245                     0            1            0  \n",
       "\n",
       "[246 rows x 11 columns]"
      ]
     },
     "execution_count": 4,
     "metadata": {},
     "output_type": "execute_result"
    }
   ],
   "source": [
    "someApartment.merged_data"
   ]
  },
  {
   "cell_type": "code",
   "execution_count": 6,
   "id": "d8132c3f-930f-4dee-9fd5-740fa9c6c62e",
   "metadata": {},
   "outputs": [
    {
     "data": {
      "text/plain": [
       "array(['Terrapin Row', 'University View', 'The Varsity'], dtype=object)"
      ]
     },
     "execution_count": 6,
     "metadata": {},
     "output_type": "execute_result"
    }
   ],
   "source": [
    "someApartment.apartment_names"
   ]
  },
  {
   "cell_type": "code",
   "execution_count": 7,
   "id": "71ea7dde-b202-4c48-8558-63b76d0df357",
   "metadata": {},
   "outputs": [
    {
     "data": {
      "text/plain": [
       "<bound method Apartment.userInput of <final_project.Apartment object at 0x00000194B80B0510>>"
      ]
     },
     "execution_count": 7,
     "metadata": {},
     "output_type": "execute_result"
    }
   ],
   "source": [
    "someApartment.userInput\n",
    "#Reference without ()'s"
   ]
  },
  {
   "cell_type": "code",
   "execution_count": 8,
   "id": "9b102447-422d-4196-8605-b9474399f1a2",
   "metadata": {},
   "outputs": [
    {
     "name": "stdout",
     "output_type": "stream",
     "text": [
      "Please answer the following questions for us to help provide you with your ideal apartment\n"
     ]
    },
    {
     "name": "stdin",
     "output_type": "stream",
     "text": [
      "Please enter your full name: Philip Samuel\n",
      "Which part of UMD campus would be ideal for you. Type North or South:  North\n",
      "Are you looking for a pool? Type 0 for no pool or 1 for pool: 0\n"
     ]
    },
    {
     "ename": "TypeError",
     "evalue": "unsupported operand type(s) for +=: 'int' and 'str'",
     "output_type": "error",
     "traceback": [
      "\u001b[1;31m---------------------------------------------------------------------------\u001b[0m",
      "\u001b[1;31mTypeError\u001b[0m                                 Traceback (most recent call last)",
      "Cell \u001b[1;32mIn[8], line 1\u001b[0m\n\u001b[1;32m----> 1\u001b[0m \u001b[43msomeApartment\u001b[49m\u001b[38;5;241;43m.\u001b[39;49m\u001b[43muserInput\u001b[49m\u001b[43m(\u001b[49m\u001b[43m)\u001b[49m\n\u001b[0;32m      2\u001b[0m \u001b[38;5;66;03m#Call has ()'s\u001b[39;00m\n",
      "File \u001b[1;32m~\\Documents\\GitHub\\INST326-Final-Project-\\final_project.py:79\u001b[0m, in \u001b[0;36mApartment.userInput\u001b[1;34m(self)\u001b[0m\n\u001b[0;32m     75\u001b[0m userInputCounter \u001b[38;5;241m=\u001b[39m \u001b[38;5;241m0\u001b[39m\n\u001b[0;32m     77\u001b[0m user_pool\u001b[38;5;241m=\u001b[39m\u001b[38;5;28minput\u001b[39m(\u001b[38;5;124m\"\u001b[39m\u001b[38;5;124mAre you looking for a pool? Type 0 for no pool or 1\u001b[39m\u001b[38;5;124m\"\u001b[39m  \n\u001b[0;32m     78\u001b[0m                 \u001b[38;5;124m\"\u001b[39m\u001b[38;5;124m for pool:\u001b[39m\u001b[38;5;124m\"\u001b[39m) \n\u001b[1;32m---> 79\u001b[0m \u001b[43muserInputCounter\u001b[49m\u001b[43m \u001b[49m\u001b[38;5;241;43m+\u001b[39;49m\u001b[38;5;241;43m=\u001b[39;49m\u001b[43m \u001b[49m\u001b[43muser_pool\u001b[49m\n\u001b[0;32m     80\u001b[0m user_gym\u001b[38;5;241m=\u001b[39m\u001b[38;5;28mint\u001b[39m(\u001b[38;5;28minput\u001b[39m(\u001b[38;5;124m\"\u001b[39m\u001b[38;5;124mAre you looking for a gym? Type 0 for no gym or 1\u001b[39m\u001b[38;5;124m\"\u001b[39m \n\u001b[0;32m     81\u001b[0m                 \u001b[38;5;124m\"\u001b[39m\u001b[38;5;124m for gym:\u001b[39m\u001b[38;5;124m\"\u001b[39m))\n\u001b[0;32m     82\u001b[0m userInputCounter \u001b[38;5;241m+\u001b[39m\u001b[38;5;241m=\u001b[39m user_gym\n",
      "\u001b[1;31mTypeError\u001b[0m: unsupported operand type(s) for +=: 'int' and 'str'"
     ]
    }
   ],
   "source": [
    "someApartment.userInput()\n",
    "#Call has ()'s"
   ]
  },
  {
   "cell_type": "code",
   "execution_count": null,
   "id": "021d4989-1bf0-4097-bd6d-56c2fecfd20b",
   "metadata": {},
   "outputs": [],
   "source": [
    "#Each person breaks the long lines and pushing."
   ]
  },
  {
   "cell_type": "code",
   "execution_count": 9,
   "id": "6e67048c-38e1-497c-b09b-b3b29c548d20",
   "metadata": {},
   "outputs": [],
   "source": [
    "df = someApartment.apartments_df.copy()"
   ]
  },
  {
   "cell_type": "code",
   "execution_count": 10,
   "id": "332c9942-42c1-4d5e-bbfa-f33ceca6a025",
   "metadata": {},
   "outputs": [
    {
     "data": {
      "text/html": [
       "<div>\n",
       "<style scoped>\n",
       "    .dataframe tbody tr th:only-of-type {\n",
       "        vertical-align: middle;\n",
       "    }\n",
       "\n",
       "    .dataframe tbody tr th {\n",
       "        vertical-align: top;\n",
       "    }\n",
       "\n",
       "    .dataframe thead th {\n",
       "        text-align: right;\n",
       "    }\n",
       "</style>\n",
       "<table border=\"1\" class=\"dataframe\">\n",
       "  <thead>\n",
       "    <tr style=\"text-align: right;\">\n",
       "      <th></th>\n",
       "      <th>Apartment Name</th>\n",
       "      <th>Apartment Number</th>\n",
       "      <th>Location</th>\n",
       "      <th>Floor Plan</th>\n",
       "      <th>Rooms available</th>\n",
       "    </tr>\n",
       "  </thead>\n",
       "  <tbody>\n",
       "    <tr>\n",
       "      <th>0</th>\n",
       "      <td>Terrapin Row</td>\n",
       "      <td>1100.0</td>\n",
       "      <td>Close to South UMD campus</td>\n",
       "      <td>1 bedroom, 1 bath</td>\n",
       "      <td>0;not available</td>\n",
       "    </tr>\n",
       "    <tr>\n",
       "      <th>1</th>\n",
       "      <td>Terrapin Row</td>\n",
       "      <td>1101.0</td>\n",
       "      <td>Close to South UMD campus</td>\n",
       "      <td>2 bedroom, 2 bath</td>\n",
       "      <td>2;1001a,1001b</td>\n",
       "    </tr>\n",
       "    <tr>\n",
       "      <th>2</th>\n",
       "      <td>Terrapin Row</td>\n",
       "      <td>1102.0</td>\n",
       "      <td>Close to South UMD campus</td>\n",
       "      <td>3 bedroom ,3 bath</td>\n",
       "      <td>3;1002a,1002b,1002c</td>\n",
       "    </tr>\n",
       "    <tr>\n",
       "      <th>3</th>\n",
       "      <td>Terrapin Row</td>\n",
       "      <td>1103.0</td>\n",
       "      <td>Close to South UMD campus</td>\n",
       "      <td>4 bedroom , 4 bath</td>\n",
       "      <td>0;not available</td>\n",
       "    </tr>\n",
       "    <tr>\n",
       "      <th>4</th>\n",
       "      <td>Terrapin Row</td>\n",
       "      <td>1104.0</td>\n",
       "      <td>Close to South UMD campus</td>\n",
       "      <td>1 bedroom, 1 bath</td>\n",
       "      <td>0;not available</td>\n",
       "    </tr>\n",
       "  </tbody>\n",
       "</table>\n",
       "</div>"
      ],
      "text/plain": [
       "  Apartment Name  Apartment Number                   Location   \n",
       "0   Terrapin Row            1100.0  Close to South UMD campus  \\\n",
       "1   Terrapin Row            1101.0  Close to South UMD campus   \n",
       "2   Terrapin Row            1102.0  Close to South UMD campus   \n",
       "3   Terrapin Row            1103.0  Close to South UMD campus   \n",
       "4   Terrapin Row            1104.0  Close to South UMD campus   \n",
       "\n",
       "           Floor Plan      Rooms available  \n",
       "0   1 bedroom, 1 bath      0;not available  \n",
       "1   2 bedroom, 2 bath        2;1001a,1001b  \n",
       "2   3 bedroom ,3 bath  3;1002a,1002b,1002c  \n",
       "3  4 bedroom , 4 bath      0;not available  \n",
       "4   1 bedroom, 1 bath      0;not available  "
      ]
     },
     "execution_count": 10,
     "metadata": {},
     "output_type": "execute_result"
    }
   ],
   "source": [
    "df.head()"
   ]
  },
  {
   "cell_type": "code",
   "execution_count": 11,
   "id": "027860bd-fc93-425c-a4dd-8ff813cf0df9",
   "metadata": {},
   "outputs": [],
   "source": [
    "import re"
   ]
  },
  {
   "cell_type": "code",
   "execution_count": 13,
   "id": "544002fc-6239-4406-a2b9-68aedfe39067",
   "metadata": {},
   "outputs": [
    {
     "data": {
      "text/plain": [
       "1"
      ]
     },
     "execution_count": 13,
     "metadata": {},
     "output_type": "execute_result"
    }
   ],
   "source": [
    "a = \"1 bedroom, 1 bath\"\n",
    "int(re.search(r\"([1-4])\\sbedroom\",a)[1])"
   ]
  },
  {
   "cell_type": "code",
   "execution_count": 12,
   "id": "c0ba5017-1619-476e-989c-e7c2fb37af4a",
   "metadata": {},
   "outputs": [
    {
     "ename": "TypeError",
     "evalue": "expected string or bytes-like object, got 'float'",
     "output_type": "error",
     "traceback": [
      "\u001b[1;31m---------------------------------------------------------------------------\u001b[0m",
      "\u001b[1;31mTypeError\u001b[0m                                 Traceback (most recent call last)",
      "Cell \u001b[1;32mIn[12], line 2\u001b[0m\n\u001b[0;32m      1\u001b[0m \u001b[38;5;66;03m#New column in dataframe\u001b[39;00m\n\u001b[1;32m----> 2\u001b[0m df[\u001b[38;5;124m\"\u001b[39m\u001b[38;5;124mBedroom\u001b[39m\u001b[38;5;124m\"\u001b[39m] \u001b[38;5;241m=\u001b[39m \u001b[43mdf\u001b[49m\u001b[43m[\u001b[49m\u001b[38;5;124;43m\"\u001b[39;49m\u001b[38;5;124;43mFloor Plan\u001b[39;49m\u001b[38;5;124;43m\"\u001b[39;49m\u001b[43m]\u001b[49m\u001b[38;5;241;43m.\u001b[39;49m\u001b[43mapply\u001b[49m\u001b[43m(\u001b[49m\u001b[38;5;28;43;01mlambda\u001b[39;49;00m\u001b[43m \u001b[49m\u001b[43ma\u001b[49m\u001b[43m:\u001b[49m\u001b[38;5;28;43mint\u001b[39;49m\u001b[43m(\u001b[49m\u001b[43mre\u001b[49m\u001b[38;5;241;43m.\u001b[39;49m\u001b[43msearch\u001b[49m\u001b[43m(\u001b[49m\u001b[38;5;124;43mr\u001b[39;49m\u001b[38;5;124;43m\"\u001b[39;49m\u001b[38;5;124;43m([1-4])\u001b[39;49m\u001b[38;5;124;43m\\\u001b[39;49m\u001b[38;5;124;43msbedroom\u001b[39;49m\u001b[38;5;124;43m\"\u001b[39;49m\u001b[43m,\u001b[49m\u001b[43ma\u001b[49m\u001b[43m)\u001b[49m\u001b[43m[\u001b[49m\u001b[38;5;241;43m1\u001b[39;49m\u001b[43m]\u001b[49m\u001b[43m)\u001b[49m\u001b[43m)\u001b[49m\n\u001b[0;32m      3\u001b[0m df\u001b[38;5;241m.\u001b[39mhead()\n",
      "File \u001b[1;32m~\\AppData\\Local\\Programs\\Python\\Python311\\Lib\\site-packages\\pandas\\core\\series.py:4631\u001b[0m, in \u001b[0;36mSeries.apply\u001b[1;34m(self, func, convert_dtype, args, **kwargs)\u001b[0m\n\u001b[0;32m   4521\u001b[0m \u001b[38;5;28;01mdef\u001b[39;00m \u001b[38;5;21mapply\u001b[39m(\n\u001b[0;32m   4522\u001b[0m     \u001b[38;5;28mself\u001b[39m,\n\u001b[0;32m   4523\u001b[0m     func: AggFuncType,\n\u001b[1;32m   (...)\u001b[0m\n\u001b[0;32m   4526\u001b[0m     \u001b[38;5;241m*\u001b[39m\u001b[38;5;241m*\u001b[39mkwargs,\n\u001b[0;32m   4527\u001b[0m ) \u001b[38;5;241m-\u001b[39m\u001b[38;5;241m>\u001b[39m DataFrame \u001b[38;5;241m|\u001b[39m Series:\n\u001b[0;32m   4528\u001b[0m \u001b[38;5;250m    \u001b[39m\u001b[38;5;124;03m\"\"\"\u001b[39;00m\n\u001b[0;32m   4529\u001b[0m \u001b[38;5;124;03m    Invoke function on values of Series.\u001b[39;00m\n\u001b[0;32m   4530\u001b[0m \n\u001b[1;32m   (...)\u001b[0m\n\u001b[0;32m   4629\u001b[0m \u001b[38;5;124;03m    dtype: float64\u001b[39;00m\n\u001b[0;32m   4630\u001b[0m \u001b[38;5;124;03m    \"\"\"\u001b[39;00m\n\u001b[1;32m-> 4631\u001b[0m     \u001b[38;5;28;01mreturn\u001b[39;00m \u001b[43mSeriesApply\u001b[49m\u001b[43m(\u001b[49m\u001b[38;5;28;43mself\u001b[39;49m\u001b[43m,\u001b[49m\u001b[43m \u001b[49m\u001b[43mfunc\u001b[49m\u001b[43m,\u001b[49m\u001b[43m \u001b[49m\u001b[43mconvert_dtype\u001b[49m\u001b[43m,\u001b[49m\u001b[43m \u001b[49m\u001b[43margs\u001b[49m\u001b[43m,\u001b[49m\u001b[43m \u001b[49m\u001b[43mkwargs\u001b[49m\u001b[43m)\u001b[49m\u001b[38;5;241;43m.\u001b[39;49m\u001b[43mapply\u001b[49m\u001b[43m(\u001b[49m\u001b[43m)\u001b[49m\n",
      "File \u001b[1;32m~\\AppData\\Local\\Programs\\Python\\Python311\\Lib\\site-packages\\pandas\\core\\apply.py:1025\u001b[0m, in \u001b[0;36mSeriesApply.apply\u001b[1;34m(self)\u001b[0m\n\u001b[0;32m   1022\u001b[0m     \u001b[38;5;28;01mreturn\u001b[39;00m \u001b[38;5;28mself\u001b[39m\u001b[38;5;241m.\u001b[39mapply_str()\n\u001b[0;32m   1024\u001b[0m \u001b[38;5;66;03m# self.f is Callable\u001b[39;00m\n\u001b[1;32m-> 1025\u001b[0m \u001b[38;5;28;01mreturn\u001b[39;00m \u001b[38;5;28;43mself\u001b[39;49m\u001b[38;5;241;43m.\u001b[39;49m\u001b[43mapply_standard\u001b[49m\u001b[43m(\u001b[49m\u001b[43m)\u001b[49m\n",
      "File \u001b[1;32m~\\AppData\\Local\\Programs\\Python\\Python311\\Lib\\site-packages\\pandas\\core\\apply.py:1076\u001b[0m, in \u001b[0;36mSeriesApply.apply_standard\u001b[1;34m(self)\u001b[0m\n\u001b[0;32m   1074\u001b[0m     \u001b[38;5;28;01melse\u001b[39;00m:\n\u001b[0;32m   1075\u001b[0m         values \u001b[38;5;241m=\u001b[39m obj\u001b[38;5;241m.\u001b[39mastype(\u001b[38;5;28mobject\u001b[39m)\u001b[38;5;241m.\u001b[39m_values\n\u001b[1;32m-> 1076\u001b[0m         mapped \u001b[38;5;241m=\u001b[39m \u001b[43mlib\u001b[49m\u001b[38;5;241;43m.\u001b[39;49m\u001b[43mmap_infer\u001b[49m\u001b[43m(\u001b[49m\n\u001b[0;32m   1077\u001b[0m \u001b[43m            \u001b[49m\u001b[43mvalues\u001b[49m\u001b[43m,\u001b[49m\n\u001b[0;32m   1078\u001b[0m \u001b[43m            \u001b[49m\u001b[43mf\u001b[49m\u001b[43m,\u001b[49m\n\u001b[0;32m   1079\u001b[0m \u001b[43m            \u001b[49m\u001b[43mconvert\u001b[49m\u001b[38;5;241;43m=\u001b[39;49m\u001b[38;5;28;43mself\u001b[39;49m\u001b[38;5;241;43m.\u001b[39;49m\u001b[43mconvert_dtype\u001b[49m\u001b[43m,\u001b[49m\n\u001b[0;32m   1080\u001b[0m \u001b[43m        \u001b[49m\u001b[43m)\u001b[49m\n\u001b[0;32m   1082\u001b[0m \u001b[38;5;28;01mif\u001b[39;00m \u001b[38;5;28mlen\u001b[39m(mapped) \u001b[38;5;129;01mand\u001b[39;00m \u001b[38;5;28misinstance\u001b[39m(mapped[\u001b[38;5;241m0\u001b[39m], ABCSeries):\n\u001b[0;32m   1083\u001b[0m     \u001b[38;5;66;03m# GH#43986 Need to do list(mapped) in order to get treated as nested\u001b[39;00m\n\u001b[0;32m   1084\u001b[0m     \u001b[38;5;66;03m#  See also GH#25959 regarding EA support\u001b[39;00m\n\u001b[0;32m   1085\u001b[0m     \u001b[38;5;28;01mreturn\u001b[39;00m obj\u001b[38;5;241m.\u001b[39m_constructor_expanddim(\u001b[38;5;28mlist\u001b[39m(mapped), index\u001b[38;5;241m=\u001b[39mobj\u001b[38;5;241m.\u001b[39mindex)\n",
      "File \u001b[1;32m~\\AppData\\Local\\Programs\\Python\\Python311\\Lib\\site-packages\\pandas\\_libs\\lib.pyx:2834\u001b[0m, in \u001b[0;36mpandas._libs.lib.map_infer\u001b[1;34m()\u001b[0m\n",
      "Cell \u001b[1;32mIn[12], line 2\u001b[0m, in \u001b[0;36m<lambda>\u001b[1;34m(a)\u001b[0m\n\u001b[0;32m      1\u001b[0m \u001b[38;5;66;03m#New column in dataframe\u001b[39;00m\n\u001b[1;32m----> 2\u001b[0m df[\u001b[38;5;124m\"\u001b[39m\u001b[38;5;124mBedroom\u001b[39m\u001b[38;5;124m\"\u001b[39m] \u001b[38;5;241m=\u001b[39m df[\u001b[38;5;124m\"\u001b[39m\u001b[38;5;124mFloor Plan\u001b[39m\u001b[38;5;124m\"\u001b[39m]\u001b[38;5;241m.\u001b[39mapply(\u001b[38;5;28;01mlambda\u001b[39;00m a:\u001b[38;5;28mint\u001b[39m(\u001b[43mre\u001b[49m\u001b[38;5;241;43m.\u001b[39;49m\u001b[43msearch\u001b[49m\u001b[43m(\u001b[49m\u001b[38;5;124;43mr\u001b[39;49m\u001b[38;5;124;43m\"\u001b[39;49m\u001b[38;5;124;43m([1-4])\u001b[39;49m\u001b[38;5;124;43m\\\u001b[39;49m\u001b[38;5;124;43msbedroom\u001b[39;49m\u001b[38;5;124;43m\"\u001b[39;49m\u001b[43m,\u001b[49m\u001b[43ma\u001b[49m\u001b[43m)\u001b[49m[\u001b[38;5;241m1\u001b[39m]))\n\u001b[0;32m      3\u001b[0m df\u001b[38;5;241m.\u001b[39mhead()\n",
      "File \u001b[1;32m~\\AppData\\Local\\Programs\\Python\\Python311\\Lib\\re\\__init__.py:176\u001b[0m, in \u001b[0;36msearch\u001b[1;34m(pattern, string, flags)\u001b[0m\n\u001b[0;32m    173\u001b[0m \u001b[38;5;28;01mdef\u001b[39;00m \u001b[38;5;21msearch\u001b[39m(pattern, string, flags\u001b[38;5;241m=\u001b[39m\u001b[38;5;241m0\u001b[39m):\n\u001b[0;32m    174\u001b[0m \u001b[38;5;250m    \u001b[39m\u001b[38;5;124;03m\"\"\"Scan through string looking for a match to the pattern, returning\u001b[39;00m\n\u001b[0;32m    175\u001b[0m \u001b[38;5;124;03m    a Match object, or None if no match was found.\"\"\"\u001b[39;00m\n\u001b[1;32m--> 176\u001b[0m     \u001b[38;5;28;01mreturn\u001b[39;00m \u001b[43m_compile\u001b[49m\u001b[43m(\u001b[49m\u001b[43mpattern\u001b[49m\u001b[43m,\u001b[49m\u001b[43m \u001b[49m\u001b[43mflags\u001b[49m\u001b[43m)\u001b[49m\u001b[38;5;241;43m.\u001b[39;49m\u001b[43msearch\u001b[49m\u001b[43m(\u001b[49m\u001b[43mstring\u001b[49m\u001b[43m)\u001b[49m\n",
      "\u001b[1;31mTypeError\u001b[0m: expected string or bytes-like object, got 'float'"
     ]
    }
   ],
   "source": [
    "#New column in dataframe\n",
    "df[\"Bedroom\"] = df[\"Floor Plan\"].apply(lambda a:int(re.search(r\"([1-4])\\sbedroom\",a)[1]))\n",
    "df.head()"
   ]
  },
  {
   "cell_type": "code",
   "execution_count": null,
   "id": "e915699e-270d-4cd9-86d1-a35fa6dc554b",
   "metadata": {},
   "outputs": [],
   "source": []
  }
 ],
 "metadata": {
  "kernelspec": {
   "display_name": "Python 3 (ipykernel)",
   "language": "python",
   "name": "python3"
  },
  "language_info": {
   "codemirror_mode": {
    "name": "ipython",
    "version": 3
   },
   "file_extension": ".py",
   "mimetype": "text/x-python",
   "name": "python",
   "nbconvert_exporter": "python",
   "pygments_lexer": "ipython3",
   "version": "3.11.1"
  }
 },
 "nbformat": 4,
 "nbformat_minor": 5
}
