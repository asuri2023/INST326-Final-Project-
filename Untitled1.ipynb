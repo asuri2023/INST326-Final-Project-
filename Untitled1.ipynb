{
 "cells": [
  {
   "cell_type": "code",
   "execution_count": 1,
   "id": "5597a8f2-95fc-49ce-9f69-200475734ee3",
   "metadata": {},
   "outputs": [],
   "source": [
    "import final_project\n",
    "\n",
    "someApartment = final_project.Apartment()\n",
    "#someApartment is self (reference to instaniated item)\n"
   ]
  },
  {
   "cell_type": "code",
   "execution_count": 2,
   "id": "7d9cfc59-3bba-455c-b3e3-b5190bc49a28",
   "metadata": {},
   "outputs": [
    {
     "name": "stdout",
     "output_type": "stream",
     "text": [
      "Please answer the following questions for us to help provide you with your ideal apartment\n"
     ]
    },
    {
     "name": "stdin",
     "output_type": "stream",
     "text": [
      "Please enter your full name: Philip Smaul\n",
      "Which part of UMD campus would be ideal for you. Type North or South:  North\n",
      "Are you looking for a pool? Type 0 for no pool or 1 for pool: 0\n",
      "Are you looking for a gym? Type 0 for no gym or 1 for gym: 1\n",
      "Are you looking for parking? Type 0 for no parking and 1 for parking: 1\n",
      "Do you want an apartment with an electronic entry lock system? Type 0 for no system and 1 for a system: 0\n",
      "Are you looking for study rooms? Type 0 for no study rooms and 1 for study rooms: 1\n",
      "Are you looking for game lounge? Type 0 for no game lounge and 1 for a game lounge: 0\n"
     ]
    },
    {
     "name": "stdout",
     "output_type": "stream",
     "text": [
      "Apartments with your ideal amenities: University View and The Varsity\n"
     ]
    }
   ],
   "source": [
    "someApartment.userInput()"
   ]
  },
  {
   "cell_type": "code",
   "execution_count": null,
   "id": "003bacd5-ef05-4c0a-9853-e63617bfd733",
   "metadata": {},
   "outputs": [],
   "source": []
  }
 ],
 "metadata": {
  "kernelspec": {
   "display_name": "Python 3 (ipykernel)",
   "language": "python",
   "name": "python3"
  },
  "language_info": {
   "codemirror_mode": {
    "name": "ipython",
    "version": 3
   },
   "file_extension": ".py",
   "mimetype": "text/x-python",
   "name": "python",
   "nbconvert_exporter": "python",
   "pygments_lexer": "ipython3",
   "version": "3.11.1"
  }
 },
 "nbformat": 4,
 "nbformat_minor": 5
}
